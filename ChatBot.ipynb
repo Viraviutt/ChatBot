{
 "cells": [
  {
   "cell_type": "markdown",
   "id": "9b732e7e",
   "metadata": {},
   "source": [
    "# Instalar dependencias"
   ]
  },
  {
   "cell_type": "code",
   "execution_count": 220,
   "id": "b3f9063f",
   "metadata": {},
   "outputs": [
    {
     "name": "stdout",
     "output_type": "stream",
     "text": [
      "Requirement already satisfied: openai in c:\\users\\vrvil\\appdata\\local\\programs\\python\\python313\\lib\\site-packages (2.0.1)\n",
      "Requirement already satisfied: dotenv in c:\\users\\vrvil\\appdata\\local\\programs\\python\\python313\\lib\\site-packages (0.9.9)\n",
      "Requirement already satisfied: gradio in c:\\users\\vrvil\\appdata\\local\\programs\\python\\python313\\lib\\site-packages (5.47.2)\n",
      "Requirement already satisfied: PyMuPDF in c:\\users\\vrvil\\appdata\\local\\programs\\python\\python313\\lib\\site-packages (1.26.4)\n",
      "Requirement already satisfied: docx2txt in c:\\users\\vrvil\\appdata\\local\\programs\\python\\python313\\lib\\site-packages (0.9)\n",
      "Requirement already satisfied: anyio<5,>=3.5.0 in c:\\users\\vrvil\\appdata\\roaming\\python\\python313\\site-packages (from openai) (4.9.0)\n",
      "Requirement already satisfied: distro<2,>=1.7.0 in c:\\users\\vrvil\\appdata\\local\\programs\\python\\python313\\lib\\site-packages (from openai) (1.9.0)\n",
      "Requirement already satisfied: httpx<1,>=0.23.0 in c:\\users\\vrvil\\appdata\\roaming\\python\\python313\\site-packages (from openai) (0.28.1)\n",
      "Requirement already satisfied: jiter<1,>=0.4.0 in c:\\users\\vrvil\\appdata\\local\\programs\\python\\python313\\lib\\site-packages (from openai) (0.11.0)\n",
      "Requirement already satisfied: pydantic<3,>=1.9.0 in c:\\users\\vrvil\\appdata\\local\\programs\\python\\python313\\lib\\site-packages (from openai) (2.11.9)\n",
      "Requirement already satisfied: sniffio in c:\\users\\vrvil\\appdata\\roaming\\python\\python313\\site-packages (from openai) (1.3.1)\n",
      "Requirement already satisfied: tqdm>4 in c:\\users\\vrvil\\appdata\\local\\programs\\python\\python313\\lib\\site-packages (from openai) (4.67.1)\n",
      "Requirement already satisfied: typing-extensions<5,>=4.11 in c:\\users\\vrvil\\appdata\\local\\programs\\python\\python313\\lib\\site-packages (from openai) (4.15.0)\n",
      "Requirement already satisfied: idna>=2.8 in c:\\users\\vrvil\\appdata\\roaming\\python\\python313\\site-packages (from anyio<5,>=3.5.0->openai) (3.10)\n",
      "Requirement already satisfied: certifi in c:\\users\\vrvil\\appdata\\roaming\\python\\python313\\site-packages (from httpx<1,>=0.23.0->openai) (2025.6.15)\n",
      "Requirement already satisfied: httpcore==1.* in c:\\users\\vrvil\\appdata\\roaming\\python\\python313\\site-packages (from httpx<1,>=0.23.0->openai) (1.0.9)\n",
      "Requirement already satisfied: h11>=0.16 in c:\\users\\vrvil\\appdata\\roaming\\python\\python313\\site-packages (from httpcore==1.*->httpx<1,>=0.23.0->openai) (0.16.0)\n",
      "Requirement already satisfied: annotated-types>=0.6.0 in c:\\users\\vrvil\\appdata\\local\\programs\\python\\python313\\lib\\site-packages (from pydantic<3,>=1.9.0->openai) (0.7.0)\n",
      "Requirement already satisfied: pydantic-core==2.33.2 in c:\\users\\vrvil\\appdata\\local\\programs\\python\\python313\\lib\\site-packages (from pydantic<3,>=1.9.0->openai) (2.33.2)\n",
      "Requirement already satisfied: typing-inspection>=0.4.0 in c:\\users\\vrvil\\appdata\\local\\programs\\python\\python313\\lib\\site-packages (from pydantic<3,>=1.9.0->openai) (0.4.2)\n",
      "Requirement already satisfied: python-dotenv in c:\\users\\vrvil\\appdata\\local\\programs\\python\\python313\\lib\\site-packages (from dotenv) (1.1.1)\n",
      "Requirement already satisfied: aiofiles<25.0,>=22.0 in c:\\users\\vrvil\\appdata\\local\\programs\\python\\python313\\lib\\site-packages (from gradio) (24.1.0)\n",
      "Requirement already satisfied: audioop-lts<1.0 in c:\\users\\vrvil\\appdata\\local\\programs\\python\\python313\\lib\\site-packages (from gradio) (0.2.2)\n",
      "Requirement already satisfied: brotli>=1.1.0 in c:\\users\\vrvil\\appdata\\local\\programs\\python\\python313\\lib\\site-packages (from gradio) (1.1.0)\n",
      "Requirement already satisfied: fastapi<1.0,>=0.115.2 in c:\\users\\vrvil\\appdata\\local\\programs\\python\\python313\\lib\\site-packages (from gradio) (0.118.0)\n",
      "Requirement already satisfied: ffmpy in c:\\users\\vrvil\\appdata\\local\\programs\\python\\python313\\lib\\site-packages (from gradio) (0.6.1)\n",
      "Requirement already satisfied: gradio-client==1.13.3 in c:\\users\\vrvil\\appdata\\local\\programs\\python\\python313\\lib\\site-packages (from gradio) (1.13.3)\n",
      "Requirement already satisfied: groovy~=0.1 in c:\\users\\vrvil\\appdata\\local\\programs\\python\\python313\\lib\\site-packages (from gradio) (0.1.2)\n",
      "Requirement already satisfied: huggingface-hub<2.0,>=0.33.5 in c:\\users\\vrvil\\appdata\\local\\programs\\python\\python313\\lib\\site-packages (from gradio) (0.35.3)\n",
      "Requirement already satisfied: jinja2<4.0 in c:\\users\\vrvil\\appdata\\local\\programs\\python\\python313\\lib\\site-packages (from gradio) (3.1.6)\n",
      "Requirement already satisfied: markupsafe<4.0,>=2.0 in c:\\users\\vrvil\\appdata\\local\\programs\\python\\python313\\lib\\site-packages (from gradio) (3.0.2)\n",
      "Requirement already satisfied: numpy<3.0,>=1.0 in c:\\users\\vrvil\\appdata\\local\\programs\\python\\python313\\lib\\site-packages (from gradio) (2.3.2)\n",
      "Requirement already satisfied: orjson~=3.0 in c:\\users\\vrvil\\appdata\\local\\programs\\python\\python313\\lib\\site-packages (from gradio) (3.11.3)\n",
      "Requirement already satisfied: packaging in c:\\users\\vrvil\\appdata\\roaming\\python\\python313\\site-packages (from gradio) (25.0)\n",
      "Requirement already satisfied: pandas<3.0,>=1.0 in c:\\users\\vrvil\\appdata\\local\\programs\\python\\python313\\lib\\site-packages (from gradio) (2.3.2)\n",
      "Requirement already satisfied: pillow<12.0,>=8.0 in c:\\users\\vrvil\\appdata\\local\\programs\\python\\python313\\lib\\site-packages (from gradio) (11.3.0)\n",
      "Requirement already satisfied: pydub in c:\\users\\vrvil\\appdata\\local\\programs\\python\\python313\\lib\\site-packages (from gradio) (0.25.1)\n",
      "Requirement already satisfied: python-multipart>=0.0.18 in c:\\users\\vrvil\\appdata\\local\\programs\\python\\python313\\lib\\site-packages (from gradio) (0.0.20)\n",
      "Requirement already satisfied: pyyaml<7.0,>=5.0 in c:\\users\\vrvil\\appdata\\local\\programs\\python\\python313\\lib\\site-packages (from gradio) (6.0.3)\n",
      "Requirement already satisfied: ruff>=0.9.3 in c:\\users\\vrvil\\appdata\\local\\programs\\python\\python313\\lib\\site-packages (from gradio) (0.13.2)\n",
      "Requirement already satisfied: safehttpx<0.2.0,>=0.1.6 in c:\\users\\vrvil\\appdata\\local\\programs\\python\\python313\\lib\\site-packages (from gradio) (0.1.6)\n",
      "Requirement already satisfied: semantic-version~=2.0 in c:\\users\\vrvil\\appdata\\local\\programs\\python\\python313\\lib\\site-packages (from gradio) (2.10.0)\n",
      "Requirement already satisfied: starlette<1.0,>=0.40.0 in c:\\users\\vrvil\\appdata\\local\\programs\\python\\python313\\lib\\site-packages (from gradio) (0.48.0)\n",
      "Requirement already satisfied: tomlkit<0.14.0,>=0.12.0 in c:\\users\\vrvil\\appdata\\roaming\\python\\python313\\site-packages (from gradio) (0.13.3)\n",
      "Requirement already satisfied: typer<1.0,>=0.12 in c:\\users\\vrvil\\appdata\\local\\programs\\python\\python313\\lib\\site-packages (from gradio) (0.19.2)\n",
      "Requirement already satisfied: uvicorn>=0.14.0 in c:\\users\\vrvil\\appdata\\local\\programs\\python\\python313\\lib\\site-packages (from gradio) (0.37.0)\n",
      "Requirement already satisfied: fsspec in c:\\users\\vrvil\\appdata\\local\\programs\\python\\python313\\lib\\site-packages (from gradio-client==1.13.3->gradio) (2025.9.0)\n",
      "Requirement already satisfied: websockets<16.0,>=13.0 in c:\\users\\vrvil\\appdata\\local\\programs\\python\\python313\\lib\\site-packages (from gradio-client==1.13.3->gradio) (15.0.1)\n",
      "Requirement already satisfied: filelock in c:\\users\\vrvil\\appdata\\roaming\\python\\python313\\site-packages (from huggingface-hub<2.0,>=0.33.5->gradio) (3.18.0)\n",
      "Requirement already satisfied: requests in c:\\users\\vrvil\\appdata\\roaming\\python\\python313\\site-packages (from huggingface-hub<2.0,>=0.33.5->gradio) (2.32.4)\n",
      "Requirement already satisfied: python-dateutil>=2.8.2 in c:\\users\\vrvil\\appdata\\roaming\\python\\python313\\site-packages (from pandas<3.0,>=1.0->gradio) (2.9.0.post0)\n",
      "Requirement already satisfied: pytz>=2020.1 in c:\\users\\vrvil\\appdata\\local\\programs\\python\\python313\\lib\\site-packages (from pandas<3.0,>=1.0->gradio) (2025.2)\n",
      "Requirement already satisfied: tzdata>=2022.7 in c:\\users\\vrvil\\appdata\\local\\programs\\python\\python313\\lib\\site-packages (from pandas<3.0,>=1.0->gradio) (2025.2)\n",
      "Requirement already satisfied: click>=8.0.0 in c:\\users\\vrvil\\appdata\\roaming\\python\\python313\\site-packages (from typer<1.0,>=0.12->gradio) (8.2.1)\n",
      "Requirement already satisfied: shellingham>=1.3.0 in c:\\users\\vrvil\\appdata\\roaming\\python\\python313\\site-packages (from typer<1.0,>=0.12->gradio) (1.5.4)\n",
      "Requirement already satisfied: rich>=10.11.0 in c:\\users\\vrvil\\appdata\\local\\programs\\python\\python313\\lib\\site-packages (from typer<1.0,>=0.12->gradio) (14.1.0)\n",
      "Requirement already satisfied: colorama in c:\\users\\vrvil\\appdata\\roaming\\python\\python313\\site-packages (from click>=8.0.0->typer<1.0,>=0.12->gradio) (0.4.6)\n",
      "Requirement already satisfied: six>=1.5 in c:\\users\\vrvil\\appdata\\roaming\\python\\python313\\site-packages (from python-dateutil>=2.8.2->pandas<3.0,>=1.0->gradio) (1.17.0)\n",
      "Requirement already satisfied: markdown-it-py>=2.2.0 in c:\\users\\vrvil\\appdata\\local\\programs\\python\\python313\\lib\\site-packages (from rich>=10.11.0->typer<1.0,>=0.12->gradio) (4.0.0)\n",
      "Requirement already satisfied: pygments<3.0.0,>=2.13.0 in c:\\users\\vrvil\\appdata\\roaming\\python\\python313\\site-packages (from rich>=10.11.0->typer<1.0,>=0.12->gradio) (2.19.2)\n",
      "Requirement already satisfied: mdurl~=0.1 in c:\\users\\vrvil\\appdata\\local\\programs\\python\\python313\\lib\\site-packages (from markdown-it-py>=2.2.0->rich>=10.11.0->typer<1.0,>=0.12->gradio) (0.1.2)\n",
      "Requirement already satisfied: charset_normalizer<4,>=2 in c:\\users\\vrvil\\appdata\\roaming\\python\\python313\\site-packages (from requests->huggingface-hub<2.0,>=0.33.5->gradio) (3.4.2)\n",
      "Requirement already satisfied: urllib3<3,>=1.21.1 in c:\\users\\vrvil\\appdata\\local\\programs\\python\\python313\\lib\\site-packages (from requests->huggingface-hub<2.0,>=0.33.5->gradio) (2.5.0)\n",
      "Note: you may need to restart the kernel to use updated packages.\n"
     ]
    }
   ],
   "source": [
    "%pip install openai dotenv gradio PyMuPDF docx2txt"
   ]
  },
  {
   "cell_type": "markdown",
   "id": "ae2d56ed",
   "metadata": {},
   "source": [
    "# Importar librerias"
   ]
  },
  {
   "cell_type": "code",
   "execution_count": 221,
   "id": "3e63fc81",
   "metadata": {},
   "outputs": [],
   "source": [
    "from dotenv import load_dotenv\n",
    "import os\n",
    "from openai import OpenAI\n",
    "import gradio as gr\n",
    "import fitz # PyMuPDF\n",
    "import docx2txt"
   ]
  },
  {
   "cell_type": "markdown",
   "id": "27fc9fce",
   "metadata": {},
   "source": [
    "# Definir las variables de las API KEYS"
   ]
  },
  {
   "cell_type": "code",
   "execution_count": 222,
   "id": "6e549807",
   "metadata": {},
   "outputs": [],
   "source": [
    "load_dotenv(override=True)\n",
    "open_router_api_key = os.getenv('OPEN_ROUTER_API_KEY')\n",
    "gemini_api_key = os.getenv('GEMINI_API_KEY')\n",
    "groq_api_key = os.getenv('GROQ_API_KEY')"
   ]
  },
  {
   "cell_type": "markdown",
   "id": "7008d4fa",
   "metadata": {},
   "source": [
    "# Conectar los distintos modelos"
   ]
  },
  {
   "cell_type": "markdown",
   "id": "5934f57d",
   "metadata": {},
   "source": [
    "## Google"
   ]
  },
  {
   "cell_type": "code",
   "execution_count": 223,
   "id": "ec5c4aba",
   "metadata": {},
   "outputs": [],
   "source": [
    "gemini_model = dict(model=OpenAI(api_key=gemini_api_key, base_url=\"https://generativelanguage.googleapis.com/v1beta/openai/\"), model_name=\"gemini-2.5-flash\")"
   ]
  },
  {
   "cell_type": "code",
   "execution_count": 224,
   "id": "6a1bf513",
   "metadata": {},
   "outputs": [],
   "source": [
    "#gemini = OpenAI(api_key=gemini_api_key, base_url=\"https://generativelanguage.googleapis.com/v1beta/openai/\")\n",
    "#model_name = \"gemini-2.5-flash\"\n",
    "\n",
    "\n",
    "\n",
    "# response = gemini_model[\"model\"].chat.completions.create(model=gemini_model[\"model_name\"], messages=[ # type: ignore\n",
    "#     {\n",
    "#       \"role\": \"user\",\n",
    "#       \"content\": \"Que es AI\"\n",
    "#     }\n",
    "#   ])\n",
    "# answer = response.choices[0].message.content\n",
    "# answer"
   ]
  },
  {
   "cell_type": "markdown",
   "id": "bb9f01a9",
   "metadata": {},
   "source": [
    "## OpenRouterAI"
   ]
  },
  {
   "cell_type": "code",
   "execution_count": 225,
   "id": "817b0de3",
   "metadata": {},
   "outputs": [],
   "source": [
    "open_router_model = dict(model=OpenAI(\n",
    "  base_url=\"https://openrouter.ai/api/v1\",\n",
    "  api_key=open_router_api_key,\n",
    "), \n",
    "model_name=\"deepseek/deepseek-r1-0528\")"
   ]
  },
  {
   "cell_type": "code",
   "execution_count": 226,
   "id": "670cfb37",
   "metadata": {},
   "outputs": [],
   "source": [
    "#open_router_ai = OpenAI(\n",
    "#  base_url=\"https://openrouter.ai/api/v1\",\n",
    "#  api_key=open_router_api_key,\n",
    "#)\n",
    "\n",
    "# open_router_model = dict(model=OpenAI(\n",
    "#   base_url=\"https://openrouter.ai/api/v1\",\n",
    "#   api_key=open_router_api_key,\n",
    "# ), \n",
    "# model_name=\"deepseek/deepseek-r1-0528\")\n",
    "\n",
    "# completion = open_router_model[\"model\"].chat.completions.create(\n",
    "#   #extra_headers={\n",
    "#   #  \"HTTP-Referer\": \"MI PAGINA o APP\", \n",
    "#   #  \"X-Title\": \"ANDY CODE\",\n",
    "#   #},\n",
    "#   model=open_router_model[\"model_name\"], # type: ignore\n",
    "#   messages=[\n",
    "#     {\n",
    "#       \"role\": \"user\",\n",
    "#       \"content\": \"Que es AI\"\n",
    "#     }\n",
    "#   ]\n",
    "# )\n",
    "# print(completion.choices[0].message.content)"
   ]
  },
  {
   "cell_type": "markdown",
   "id": "6f894ce3",
   "metadata": {},
   "source": [
    "## Ollama"
   ]
  },
  {
   "cell_type": "code",
   "execution_count": 227,
   "id": "e7918888",
   "metadata": {},
   "outputs": [],
   "source": [
    "# ollama = OpenAI(base_url='http://localhost:11434/v1', api_key='ollama')\n",
    "# model_name = \"llama3.2\"\n",
    "\n",
    "# response = ollama.chat.completions.create(model=model_name, messages=[\n",
    "#     {\n",
    "#       \"role\": \"user\",\n",
    "#       \"content\": \"Que es AI\"\n",
    "#     }\n",
    "#   ])\n",
    "# answer = response.choices[0].message.content\n",
    "# answer"
   ]
  },
  {
   "cell_type": "code",
   "execution_count": 228,
   "id": "d8cd0ffb",
   "metadata": {},
   "outputs": [],
   "source": [
    "# from ollama import chat\n",
    "\n",
    "# model_name = \"llama3.2\"\n",
    "# mensajes = [\n",
    "#     {\"role\": \"user\", \"content\": \"¿Qué es la IA?\"}\n",
    "# ]\n",
    "\n",
    "# respuesta = chat(model=model_name, messages=mensajes)\n",
    "# print(\"Respuesta:\", respuesta.message.content)\n"
   ]
  },
  {
   "cell_type": "markdown",
   "id": "94f8d7ae",
   "metadata": {},
   "source": [
    "## Groq"
   ]
  },
  {
   "cell_type": "code",
   "execution_count": 229,
   "id": "1e59a97b",
   "metadata": {},
   "outputs": [],
   "source": [
    "groq_model = dict(model=OpenAI(api_key=groq_api_key, base_url=\"https://api.groq.com/openai/v1\"), model_name=\"llama-3.3-70b-versatile\")"
   ]
  },
  {
   "cell_type": "code",
   "execution_count": 230,
   "id": "1fd904f2",
   "metadata": {},
   "outputs": [],
   "source": [
    "#grog_ai = OpenAI(api_key=groq_api_key, base_url=\"https://api.groq.com/openai/v1\")\n",
    "#model_name = \"llama-3.3-70b-versatile\"\n",
    "\n",
    "# groq_model = dict(model=OpenAI(api_key=groq_api_key, base_url=\"https://api.groq.com/openai/v1\"), model_name=\"llama-3.3-70b-versatile\")\n",
    "\n",
    "# response = groq_model[\"model\"].chat.completions.create(model=groq_model[\"model_name\"], messages=[\n",
    "#     {\n",
    "#       \"role\": \"user\",\n",
    "#       \"content\": \"Que es AI\"\n",
    "#     }\n",
    "#   ])\n",
    "# answer = response.choices[0].message.content\n",
    "# answer"
   ]
  },
  {
   "cell_type": "markdown",
   "id": "02cfcfc0",
   "metadata": {},
   "source": [
    "# Crear interfaz de chat con gradio"
   ]
  },
  {
   "cell_type": "code",
   "execution_count": 231,
   "id": "66932862",
   "metadata": {},
   "outputs": [
    {
     "name": "stdout",
     "output_type": "stream",
     "text": [
      "SON IGUALES\n"
     ]
    }
   ],
   "source": [
    "def test():\n",
    "    if \"C:\\\\pepe\\\\manduco\" == r\"C:\\pepe\\manduco\":\n",
    "        print(\"SON IGUALES\")\n",
    "    else:\n",
    "        print(\"NO SON IGUALES\")\n",
    "\n",
    "test()"
   ]
  },
  {
   "cell_type": "markdown",
   "id": "76c15b1a",
   "metadata": {},
   "source": [
    "## Funcion de chat"
   ]
  },
  {
   "cell_type": "code",
   "execution_count": 234,
   "id": "a9f1a472",
   "metadata": {},
   "outputs": [],
   "source": [
    "def obtener_valor(dict: dict, key: str):\n",
    "    return dict.get(key, \"Clave no encontrada\")\n",
    "\n",
    "models = dict(\n",
    "    gemini=gemini_model,\n",
    "    open_router=open_router_model,\n",
    "    groq=groq_model\n",
    ")\n",
    "\n",
    "sent_files = []\n",
    "\n",
    "def chat(message: dict, history, model):\n",
    "\n",
    "    try:\n",
    "\n",
    "        print(f\"Modelo seleccionado: {model}\")\n",
    "        print(f\"modelo: {obtener_valor(models[model], 'model_name')}\")\n",
    "\n",
    "        messages = [\n",
    "            {\"role\": \"system\", \"content\": \"Eres un asistente de IA que responde preguntas y ayuda con tareas.\"}\n",
    "        ]\n",
    "\n",
    "        if message[\"files\"]:\n",
    "            sent_files.append(message[\"files\"][0])\n",
    "            for file in message[\"files\"]:\n",
    "                if os.path.basename(file).endswith('.pdf'):\n",
    "                    file_content = read_file_pdf(file)\n",
    "                elif os.path.basename(file).endswith('.txt'):\n",
    "                    file_content = read_file_txt(file)\n",
    "                elif os.path.basename(file).endswith('.docx'):\n",
    "                    file_content = read_file_docx(file)\n",
    "                else:\n",
    "                    file_content = \"Tipo de archivo no soportado. Solo se permiten archivos .txt, .pdf y .docx\"\n",
    "                \n",
    "                # Añadir el contenido del archivo al historial como un mensaje del sistema\n",
    "                history.append({\"role\": \"system\", \"content\": f\"Contenido del archivo \\\"{os.path.basename(file)}\\\": {file_content}\"})\n",
    "\n",
    "        for msg in history:\n",
    "            if valid_history(msg, sent_files[0] if sent_files else \"\"):\n",
    "                messages.append({\"role\": msg[\"role\"], \"content\": msg[\"content\"]})\n",
    "        \n",
    "        messages.append({\"role\": \"user\", \"content\": message[\"text\"]})\n",
    "\n",
    "        resp = obtener_valor(models[model], \"model\").chat.completions.create(\n",
    "            model=obtener_valor(models[model], \"model_name\"),\n",
    "            messages=messages\n",
    "        )\n",
    "\n",
    "        return resp.choices[0].message.content\n",
    "    except Exception as e:\n",
    "        print(f\"Error: {e}\")\n",
    "        return f\"Error: {e}\"\n",
    "    \n",
    "def valid_history(history, file):\n",
    "    if len(history[\"content\"]) > 0 and isinstance(history[\"content\"], tuple):\n",
    "        if history[\"content\"][0] == file:\n",
    "            return False\n",
    "    return True\n",
    "    \n",
    "def read_file_txt(file):\n",
    "    try:\n",
    "        if file is None:\n",
    "            return \"\"\n",
    "        with open(file, 'r', encoding='utf-8') as f:\n",
    "            return f.read()\n",
    "    except Exception as e:\n",
    "        return f\"Error al leer el archivo: {e}\"\n",
    "    \n",
    "def read_file_pdf(file):\n",
    "    try:\n",
    "        with fitz.open(file) as doc:\n",
    "            text = \"\"\n",
    "            for page in doc:\n",
    "                text += page.get_text()\n",
    "        return text\n",
    "    except Exception as e:\n",
    "        return f\"Error al leer el archivo PDF: {e}\"\n",
    "    \n",
    "def read_file_docx(file):\n",
    "    try:\n",
    "        texto = docx2txt.process(file)\n",
    "        return texto\n",
    "    except Exception as e:\n",
    "        return f\"Error al leer DOCX {file}: {e}\"\n"
   ]
  },
  {
   "cell_type": "markdown",
   "id": "a206937d",
   "metadata": {},
   "source": [
    "## Creacion de la interfaz del Chat con Gradio"
   ]
  },
  {
   "cell_type": "code",
   "execution_count": 235,
   "id": "3e3dc87a",
   "metadata": {},
   "outputs": [
    {
     "name": "stdout",
     "output_type": "stream",
     "text": [
      "* Running on local URL:  http://127.0.0.1:7958\n",
      "* To create a public link, set `share=True` in `launch()`.\n"
     ]
    },
    {
     "data": {
      "text/html": [
       "<div><iframe src=\"http://127.0.0.1:7958/\" width=\"100%\" height=\"500\" allow=\"autoplay; camera; microphone; clipboard-read; clipboard-write;\" frameborder=\"0\" allowfullscreen></iframe></div>"
      ],
      "text/plain": [
       "<IPython.core.display.HTML object>"
      ]
     },
     "metadata": {},
     "output_type": "display_data"
    },
    {
     "data": {
      "text/plain": []
     },
     "execution_count": 235,
     "metadata": {},
     "output_type": "execute_result"
    }
   ],
   "source": [
    "with gr.Blocks() as app:\n",
    "    with gr.Row():\n",
    "        with gr.Column(scale=1):\n",
    "            gr.Markdown(\"## Elija su modelo de IA preferido.\")\n",
    "            model_selector = gr.Dropdown(\n",
    "                choices=list(models.keys()),\n",
    "                value=\"gemini\",\n",
    "                label=\"Modelo de IA\"\n",
    "            )\n",
    "\n",
    "        with gr.Column(scale=3):\n",
    "\n",
    "            current_model = gr.State(\"gemini\")\n",
    "\n",
    "            model_selector.change(\n",
    "                fn=lambda model: model,\n",
    "                inputs=model_selector,\n",
    "                outputs=current_model\n",
    "            )\n",
    "\n",
    "            chatbot = gr.Chatbot(type=\"messages\")\n",
    "\n",
    "            gr.ChatInterface(chat, \n",
    "                             chatbot=chatbot, \n",
    "                             additional_inputs=[current_model],\n",
    "                             type=\"messages\", \n",
    "                             title=\"Chat con Modelos de IA\", \n",
    "                             multimodal=True,\n",
    "                             save_history=True,\n",
    "                             autoscroll=True,\n",
    "                             stop_btn=True\n",
    "                            )\n",
    "\n",
    "\n",
    "app.launch()"
   ]
  }
 ],
 "metadata": {
  "kernelspec": {
   "display_name": "Python 3",
   "language": "python",
   "name": "python3"
  },
  "language_info": {
   "codemirror_mode": {
    "name": "ipython",
    "version": 3
   },
   "file_extension": ".py",
   "mimetype": "text/x-python",
   "name": "python",
   "nbconvert_exporter": "python",
   "pygments_lexer": "ipython3",
   "version": "3.13.3"
  }
 },
 "nbformat": 4,
 "nbformat_minor": 5
}
